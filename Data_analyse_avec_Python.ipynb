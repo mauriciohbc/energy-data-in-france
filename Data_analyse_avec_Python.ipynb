{
 "cells": [
  {
   "cell_type": "markdown",
   "id": "53d43c4a-115a-4fd7-9219-72e187882e3d",
   "metadata": {},
   "source": [
    "# Introduction à la Data Analyse avec Python"
   ]
  },
  {
   "cell_type": "markdown",
   "id": "f8de8786-0a30-4220-8dee-3ec73132f2e6",
   "metadata": {
    "tags": []
   },
   "source": [
    "## Objectifs"
   ]
  },
  {
   "cell_type": "markdown",
   "id": "85165a26-a4a3-47c4-a2b9-1220aa124a31",
   "metadata": {},
   "source": [
    "A la fin de ce notebook, tu seras capable, à l'aide de Python, de :\n",
    "* charger des données et voir les N premières lignes\n",
    "* faire des explorations préliminaires des données (avoir des infos sur les colonnes et des statistiques sur les colonnes dont les valeurs sont numériques)\n",
    "\n",
    "Pour ce notebook, tu utiliseras la librairie Pandas, dont la documentation tu peux trouver [ici](https://pandas.pydata.org/docs/user_guide/index.html)."
   ]
  },
  {
   "cell_type": "markdown",
   "id": "eaa2862f-d0ff-4647-8322-398e44a8582d",
   "metadata": {
    "tags": []
   },
   "source": [
    "## Chargement des librairies"
   ]
  },
  {
   "cell_type": "markdown",
   "id": "b33df6d1-0243-4d17-9b95-10a4890a7b6c",
   "metadata": {},
   "source": [
    "Il convient au début de chaque code Python d'importer les libraires que l'on va utiliser dans son code.\n",
    "Pour ce notebook, on va utiliser seulement Pandas."
   ]
  },
  {
   "cell_type": "code",
   "execution_count": null,
   "id": "26c548c8-3fe2-4629-b14a-83ec54f27b25",
   "metadata": {
    "tags": []
   },
   "outputs": [],
   "source": [
    "import pandas as pd"
   ]
  },
  {
   "cell_type": "markdown",
   "id": "a648eb3b-7076-45bf-8fa6-bbfca1141aae",
   "metadata": {
    "tags": []
   },
   "source": [
    "## Chargement des données"
   ]
  },
  {
   "cell_type": "markdown",
   "id": "223e1516-5e31-402c-8843-8232ff37c9bb",
   "metadata": {},
   "source": [
    "Pour charger des données, on va utiliser les fonctions de Pandas. Il existe plusieurs fonctions pour lire des fichiers contenant des données, en fonction de l'extension du fichier ([read_csv](https://pandas.pydata.org/docs/reference/api/pandas.read_csv.html), [read_excel](https://pandas.pydata.org/docs/reference/api/pandas.read_excel.html), [read_json](https://pandas.pydata.org/docs/reference/api/pandas.read_json.html)).\n",
    "\n",
    "Voyons ensemble un exemple de chargement de fichier.\n",
    "\n",
    "Dans ce url ('https://github.com/jbrownlee/Datasets/blob/master/airline-passengers.csv?raw=true'), il y les informations sur le nombre des passagers dans les routes internationales aux US de 1949 à 1960 en milliers. Il y a seulement une colonne dans base de données (que l'on va appeler dorénavant de _dataframe_ pour suivre le vocabulaire de Pandas). L'indice de chaque ligne fait référence au mois.\n",
    "\n",
    "Voici un exemple de comment charger ce dataframe avec la fonction [read_csv](https://pandas.pydata.org/docs/reference/api/pandas.read_csv.html). On doit passer url comme argument. L'argument `index_col` indique quelle colonne dans le csv d'origine sera utilisée comme indice (rappelle-toi que dans Python, on commence à compter à partir de 0. Ainsi la première colonne est la colonne 0). L'argument `parse_date` est paramétré pour que toutes les colonnes \"ressemblant\" à des dates soient interprétées comme telle."
   ]
  },
  {
   "cell_type": "code",
   "execution_count": null,
   "id": "96e4e5a0-ed3c-4348-ae2c-15789a6b7100",
   "metadata": {
    "tags": []
   },
   "outputs": [],
   "source": [
    "passenger_df = pd.read_csv('https://github.com/jbrownlee/Datasets/blob/master/airline-passengers.csv?raw=true', \n",
    "                           index_col=0,\n",
    "                           parse_dates=True)"
   ]
  },
  {
   "cell_type": "markdown",
   "id": "b22635b5-2b52-40df-870b-72d9f963d232",
   "metadata": {},
   "source": [
    "On peut voir les premières N lignes du dataframe en utilisant la méthode [.head(n=N)](https://pandas.pydata.org/docs/reference/api/pandas.DataFrame.head.html)."
   ]
  },
  {
   "cell_type": "code",
   "execution_count": null,
   "id": "d9782ee6-69b3-4eac-8f8a-ba2614f75245",
   "metadata": {
    "tags": []
   },
   "outputs": [],
   "source": [
    "passenger_df.head(n=10)"
   ]
  },
  {
   "cell_type": "markdown",
   "id": "735e9aee-6607-4241-8fe1-1b800ec693de",
   "metadata": {},
   "source": [
    "### A toi de jouer"
   ]
  },
  {
   "cell_type": "markdown",
   "id": "a4ca3a7f-8aa9-45c1-8912-0e10c207a094",
   "metadata": {},
   "source": [
    "Dans cet url ('https://github.com/mauriciohbc/energy-data-in-france/blob/main/energy_production_and_consumption_monthly.csv?raw=true'), il y a des informations mensuelles sur la consommation et production électrique en France de 2012 à 2022. Toutes les colonnes sont en TWh (unité d'énergie). Les dates de chaque ligne sont dans la première colonne.\n",
    "\n",
    "Charge ce dataframe read_csv."
   ]
  },
  {
   "cell_type": "code",
   "execution_count": null,
   "id": "f8ff3134-dbd6-468d-b939-d8d9f7c1db01",
   "metadata": {
    "tags": []
   },
   "outputs": [],
   "source": [
    "### Tu peux rentrer ton code ici.\n",
    "\n",
    "\n",
    "\n",
    "### Fin de ton code."
   ]
  },
  {
   "cell_type": "markdown",
   "id": "15f1cd23-e678-481c-9e10-4552bf420b3d",
   "metadata": {},
   "source": [
    "Pour voir si tu as bien chargé les données, montre les 12 premières lignes du dataframe (les lignes concernant l'année de 2012)."
   ]
  },
  {
   "cell_type": "code",
   "execution_count": null,
   "id": "7f291dc9-44e6-471b-827b-33701dd29544",
   "metadata": {
    "tags": []
   },
   "outputs": [],
   "source": [
    "### Tu peux rentrer ton code ici.\n",
    "\n",
    "\n",
    "\n",
    "### Fin de ton code."
   ]
  },
  {
   "cell_type": "markdown",
   "id": "ffb55ebf-461b-406c-9b3b-4355ce21ef13",
   "metadata": {},
   "source": [
    "Maintenant tu es capable de répondre aux questions suivantes :\n",
    "* Quelle était la consommation d'énergie en France en août 2012 en TWh ?\n",
    "* Combien d'énergie renouvelable a été produite en France en avril 2012 en TWh ?"
   ]
  },
  {
   "cell_type": "markdown",
   "id": "37b2fc08-81c3-4c58-88ee-0316af1a323f",
   "metadata": {},
   "source": [
    "## Explorations préliminaires des données"
   ]
  },
  {
   "cell_type": "markdown",
   "id": "0ab8e7bd-928d-47ed-9f99-77cd47e12234",
   "metadata": {},
   "source": [
    "On peut avoir plus d'informations sur le dataframe avec la méthode [.info()](https://pandas.pydata.org/docs/reference/api/pandas.DataFrame.info.html). Cette méthode nous dit les informations suivantes sur le dataframe :\n",
    "* le nombre de lignes\n",
    "* le nombre et les noms de colonnes\n",
    "* le type de valeur que chaque colonne prend (entière, décimale ou autre)\n",
    "* le nombre de lignes dans chaque colonne avec une valeur"
   ]
  },
  {
   "cell_type": "code",
   "execution_count": null,
   "id": "19cc6e7d-fac7-4ea0-9fbe-d86052f04ca2",
   "metadata": {
    "tags": []
   },
   "outputs": [],
   "source": [
    "passenger_df.info()"
   ]
  },
  {
   "cell_type": "markdown",
   "id": "e6a52a34-b9d3-4c5f-945c-80f9d82d9ff5",
   "metadata": {},
   "source": [
    "Pour `passenger_df`, on voit qu'il y a 144 entrées (lignes), de janvier 1949 à décembre 1960. Il y a une colonne (Passengers), toutes les lignes sont remplies pour cette colonnes et elle prend des valeurs du type int64 (des nombres entiers représentés avec 64 bits)."
   ]
  },
  {
   "cell_type": "markdown",
   "id": "50f26bfb-01ae-49f2-aca8-9b1ae518a16a",
   "metadata": {},
   "source": [
    "On peut aussi avoir plus d'information sur chaque colonne dont les valeurs sont numériques avec la méthode [.describe()](https://pandas.pydata.org/docs/reference/api/pandas.DataFrame.describe.html). "
   ]
  },
  {
   "cell_type": "code",
   "execution_count": null,
   "id": "9389a616-4b40-4fd4-a4b0-e92601ffd852",
   "metadata": {
    "tags": []
   },
   "outputs": [],
   "source": [
    "passenger_df.describe()"
   ]
  },
  {
   "cell_type": "markdown",
   "id": "23b21d16-fa2e-4471-94bf-b3fda2f197e7",
   "metadata": {},
   "source": [
    "Pour la colonne `Passengers` de `passenger_df`, on a les informations suivantes :\n",
    "* il y a 144 valeurs dans la colonne\n",
    "* la moyenne des valeurs c'est 280,298611, avec un écart type de 119,966317\n",
    "* la valeur minimale est de 104 et la valeur maximale est de 622\n",
    "* 25% des valeurs sont plus petites de 180\n",
    "* 50% des valeurs sont plus petites de 265,5 (c'est la définition de la médiane)\n",
    "* 75% des valeurs sont plus petites de 360.5"
   ]
  },
  {
   "cell_type": "markdown",
   "id": "dcabadce-3397-43e5-8fc8-7fdb6c9e5bd1",
   "metadata": {},
   "source": [
    "### A toi de jouer"
   ]
  },
  {
   "cell_type": "markdown",
   "id": "de6293eb-517b-448b-a28e-05969bb6ce69",
   "metadata": {},
   "source": [
    "Trouve des informations générales sur le dataframe d'énergie en France à l'aide de la méthode `.info()`.\n",
    "\n",
    "Tip : float64 signifie que la donnée est du type décimale, stockée dans la mémoire à l'aide de 64 bits."
   ]
  },
  {
   "cell_type": "code",
   "execution_count": null,
   "id": "35a9fe5e-2007-4858-b804-100b0764c620",
   "metadata": {
    "tags": []
   },
   "outputs": [],
   "source": [
    "### Tu peux rentrer ton code ici.\n",
    "\n",
    "\n",
    "\n",
    "### Fin de ton code."
   ]
  },
  {
   "cell_type": "markdown",
   "id": "4e1836e7-684b-41c2-883a-280d2beb15e6",
   "metadata": {},
   "source": [
    "Trouve plus d'information sur les colonnes dont les valeurs sont numériques à l'aide de la fonction `.describe()`."
   ]
  },
  {
   "cell_type": "code",
   "execution_count": null,
   "id": "4b490a57-79df-4ab0-a59e-a47e7c4447ca",
   "metadata": {
    "tags": []
   },
   "outputs": [],
   "source": [
    "### Tu peux rentrer ton code ici.\n",
    "\n",
    "\n",
    "\n",
    "### Fin de ton code."
   ]
  },
  {
   "cell_type": "markdown",
   "id": "71d7316b-55eb-4bb2-b692-a7bc138e3b94",
   "metadata": {},
   "source": [
    "Maintenant tu es capable de répondre aux questions suivantes :\n",
    "* Combien de lignes il y a dans le dataframe d'énergie ?\n",
    "* Y a-t-il des colonnes avec des valeurs manquantes dans le dataframe d'énergie ?\n",
    "* Quelle est la valeur maximale de consommation mensuelle en France de 2012 à 2022 en TWh ?\n",
    "* Quelle est la valeur moyenne de production d'énergie solaire mensuelle en France de 2012 à 2022 en TWh ?\n",
    "* Quelle est la valeur médiane de la production d'énergie par gas mensuelle en France de 2012 à 2022 en TWh ?"
   ]
  }
 ],
 "metadata": {
  "environment": {
   "kernel": "python3",
   "name": "common-cu113.m124",
   "type": "gcloud",
   "uri": "us-docker.pkg.dev/deeplearning-platform-release/gcr.io/base-cu113:m124"
  },
  "kernelspec": {
   "display_name": "Python 3 (Local)",
   "language": "python",
   "name": "python3"
  },
  "language_info": {
   "codemirror_mode": {
    "name": "ipython",
    "version": 3
   },
   "file_extension": ".py",
   "mimetype": "text/x-python",
   "name": "python",
   "nbconvert_exporter": "python",
   "pygments_lexer": "ipython3",
   "version": "3.10.4"
  }
 },
 "nbformat": 4,
 "nbformat_minor": 5
}
